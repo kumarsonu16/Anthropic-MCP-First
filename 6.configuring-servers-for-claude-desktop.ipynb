{
 "cells": [
  {
   "cell_type": "markdown",
   "id": "295080f3",
   "metadata": {},
   "source": [
    "To configure the MCP server in Claude desktop app, please follow the below steps:\n",
    "\n",
    "1. Open Claude destop app's settings\n",
    "2. Go to developer -> Edit Config and paste below config.json\n",
    "\n",
    " ```python\n",
    "        {\n",
    "    \"mcpServers\": {\n",
    "        \"filesystem\": {\n",
    "            \"command\": \"npx\",\n",
    "            \"args\": [\n",
    "                \"-y\",\n",
    "                \"@modelcontextprotocol/server-filesystem\",\n",
    "                \"/Users/s.kumar/Documents/learn/MCP/Anthropic-mcp/2.1.mcp_project/\"\n",
    "            ]\n",
    "        },\n",
    "        \"research\": {\n",
    "            \"command\": \"uv\",\n",
    "            \"args\": [\n",
    "                \"--directory\",\n",
    "                \"/Users/s.kumar/Documents/learn/MCP/Anthropic-mcp/2.1.mcp_project/\",\n",
    "                \"run\",\n",
    "                \"research_server_with_resources_and_prompt.py\"\n",
    "            ]\n",
    "        },\n",
    "        \"fetch\": {\n",
    "            \"command\": \"uvx\",\n",
    "            \"args\": [\n",
    "                \"mcp-server-fetch\"\n",
    "            ]\n",
    "        }\n",
    "    }\n",
    "}\n",
    " ```\n",
    "\n",
    " 3. Restart the Claude app\n",
    " 4. Check the + symbol in chat to your prompt and resources\n",
    " 5. Check the second option for tools"
   ]
  },
  {
   "cell_type": "markdown",
   "id": "6199a165",
   "metadata": {},
   "source": []
  },
  {
   "cell_type": "markdown",
   "id": "6ff8d300",
   "metadata": {},
   "source": [
    "# use below prompt to ask to your research mcp server to perform the research \n",
    "\n",
    "Use the fetch tool to visit deeplearning.ai and find an interesting topic about machine learning on that webpage.\n",
    "\n",
    "Then research two papers on arxiv about the topic and summaries the main topics covered.\n",
    "\n",
    "Finally, generate a web based quiz application with a set of flashcards based on the key topics in the papers"
   ]
  },
  {
   "cell_type": "markdown",
   "id": "8db298f0",
   "metadata": {},
   "source": [
    "I have done the above steps and promot then published the generated web page:\n",
    "\n",
    "https://claude.ai/public/artifacts/ee6d0b46-c72e-4751-8578-ada3c2ecdce5\n"
   ]
  },
  {
   "cell_type": "markdown",
   "id": "8c7bf855",
   "metadata": {},
   "source": []
  }
 ],
 "metadata": {
  "language_info": {
   "name": "python"
  }
 },
 "nbformat": 4,
 "nbformat_minor": 5
}
