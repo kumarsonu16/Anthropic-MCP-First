{
 "cells": [
  {
   "cell_type": "markdown",
   "id": "6bad4a8a",
   "metadata": {},
   "source": [
    "Will wrap the tools of the chatbot of the 1.chatbot.ipynb, to build an MCP server that exposes 2 tools. You will use here the stdio transport and run the server in the provided local environment"
   ]
  },
  {
   "cell_type": "markdown",
   "id": "ef3d40cb",
   "metadata": {},
   "source": [
    "## How can you create an MCP Server? - *Additional Note*"
   ]
  },
  {
   "cell_type": "markdown",
   "id": "a622f464",
   "metadata": {},
   "source": [
    "Let's take the example of a server that exposes tools. This server needs to handle two main requests from the client:\n",
    "- listing all the tools\n",
    "  \n",
    "   <img src=\"images/server_list_tools.png\" width=\"400\">\n",
    "\n",
    "- executing a particular tool\n",
    "  \n",
    "  <img src=\"images/server_call_tool.png\" width=\"400\">"
   ]
  },
  {
   "cell_type": "markdown",
   "id": "d84446b9",
   "metadata": {},
   "source": [
    "There are two ways for creating an MCP server:\n",
    "- **low-level implementation**: in this approach, you directly define and handle the various types of requests (`ListToolsRequest` and `CallToolRequest`). This approach allows you to customize every aspect of your server.\n",
    "- **high-level implementation using `FastMCP`**: `FastMCP` is a high-level interface that makes building MCP servers faster and simpler. In this approach, you just focus on defining the tools as functions, and`FastMCP` handles all the protocol details.\n",
    "  \n",
    "You will use in this lesson `FastMCP`. If you'd like to learn more about the low-level approach, you can check out the resources at the end of this notebook."
   ]
  },
  {
   "cell_type": "markdown",
   "id": "c493ebad",
   "metadata": {},
   "source": [
    "## Building your MCP Server using `FastMCP`"
   ]
  },
  {
   "cell_type": "markdown",
   "id": "d59e9ec4",
   "metadata": {},
   "source": [
    "You will build the files needed for your MCP server in the folder `2.1.mcp_project`. You will incrementally add or update more files to this project folder. The `2.1.mcp_project` folder is provided to you. You will first create the python file of the server `research_server.py` and save it in  `2.1.mcp_project` folder, then you'll prepare the environment to run the server."
   ]
  },
  {
   "cell_type": "markdown",
   "id": "31c6a898",
   "metadata": {},
   "source": [
    "To create your MCP server using `FastMCP`, you will initialize a `FastMCP` server labeled as `mcp` and decorating the functions with `@mcp.tool()`. `FastMCP` automatically generates the necessary MCP schema based on type hints and docstrings.\n",
    "\n",
    "\n",
    "**Note**: The magic function `%%writefile 2.1.mcp_project/research_server.py` will not execute the code but it will save the content of the cell to the server file `research_server.py` in the directory: `2.1.mcp_project`. If you remove the magic function and run the cell, the code won't run in Jupyter notebook. You will run the server from the terminal in the next section. "
   ]
  },
  {
   "cell_type": "code",
   "execution_count": null,
   "id": "407fef82",
   "metadata": {},
   "outputs": [
    {
     "name": "stdout",
     "output_type": "stream",
     "text": [
      "Overwriting mcp_project/research_server.py\n"
     ]
    }
   ],
   "source": [
    "%%writefile 2.1.mcp_project/research_server.py\n",
    "\n",
    "import arxiv\n",
    "import json\n",
    "import os\n",
    "from typing import List\n",
    "from mcp.server.fastmcp import FastMCP\n",
    "\n",
    "\n",
    "PAPER_DIR = \"papers\"\n",
    "\n",
    "# Initialize FastMCP server\n",
    "mcp = FastMCP(\"research\")\n",
    "\n",
    "@mcp.tool()\n",
    "def search_papers(topic: str, max_results: int = 5) -> List[str]:\n",
    "    \"\"\"\n",
    "    Search for papers on arXiv based on a topic and store their information.\n",
    "    \n",
    "    Args:\n",
    "        topic: The topic to search for\n",
    "        max_results: Maximum number of results to retrieve (default: 5)\n",
    "        \n",
    "    Returns:\n",
    "        List of paper IDs found in the search\n",
    "    \"\"\"\n",
    "    \n",
    "    # Use arxiv to find the papers \n",
    "    client = arxiv.Client()\n",
    "\n",
    "    # Search for the most relevant articles matching the queried topic\n",
    "    search = arxiv.Search(\n",
    "        query = topic,\n",
    "        max_results = max_results,\n",
    "        sort_by = arxiv.SortCriterion.Relevance\n",
    "    )\n",
    "\n",
    "    papers = client.results(search)\n",
    "    \n",
    "    # Create directory for this topic\n",
    "    path = os.path.join(PAPER_DIR, topic.lower().replace(\" \", \"_\"))\n",
    "    os.makedirs(path, exist_ok=True)\n",
    "    \n",
    "    file_path = os.path.join(path, \"papers_info.json\")\n",
    "\n",
    "    # Try to load existing papers info\n",
    "    try:\n",
    "        with open(file_path, \"r\") as json_file:\n",
    "            papers_info = json.load(json_file)\n",
    "    except (FileNotFoundError, json.JSONDecodeError):\n",
    "        papers_info = {}\n",
    "\n",
    "    # Process each paper and add to papers_info  \n",
    "    paper_ids = []\n",
    "    for paper in papers:\n",
    "        paper_ids.append(paper.get_short_id())\n",
    "        paper_info = {\n",
    "            'title': paper.title,\n",
    "            'authors': [author.name for author in paper.authors],\n",
    "            'summary': paper.summary,\n",
    "            'pdf_url': paper.pdf_url,\n",
    "            'published': str(paper.published.date())\n",
    "        }\n",
    "        papers_info[paper.get_short_id()] = paper_info\n",
    "    \n",
    "    # Save updated papers_info to json file\n",
    "    with open(file_path, \"w\") as json_file:\n",
    "        json.dump(papers_info, json_file, indent=2)\n",
    "    \n",
    "    print(f\"Results are saved in: {file_path}\")\n",
    "    \n",
    "    return paper_ids\n",
    "\n",
    "@mcp.tool()\n",
    "def extract_info(paper_id: str) -> str:\n",
    "    \"\"\"\n",
    "    Search for information about a specific paper across all topic directories.\n",
    "    \n",
    "    Args:\n",
    "        paper_id: The ID of the paper to look for\n",
    "        \n",
    "    Returns:\n",
    "        JSON string with paper information if found, error message if not found\n",
    "    \"\"\"\n",
    " \n",
    "    for item in os.listdir(PAPER_DIR):\n",
    "        item_path = os.path.join(PAPER_DIR, item)\n",
    "        if os.path.isdir(item_path):\n",
    "            file_path = os.path.join(item_path, \"papers_info.json\")\n",
    "            if os.path.isfile(file_path):\n",
    "                try:\n",
    "                    with open(file_path, \"r\") as json_file:\n",
    "                        papers_info = json.load(json_file)\n",
    "                        if paper_id in papers_info:\n",
    "                            return json.dumps(papers_info[paper_id], indent=2)\n",
    "                except (FileNotFoundError, json.JSONDecodeError) as e:\n",
    "                    print(f\"Error reading {file_path}: {str(e)}\")\n",
    "                    continue\n",
    "    \n",
    "    return f\"There's no saved information related to paper {paper_id}.\"\n",
    "\n",
    "\n",
    "\n",
    "if __name__ == \"__main__\":\n",
    "    # Initialize and run the server\n",
    "    mcp.run(transport='stdio')"
   ]
  },
  {
   "cell_type": "markdown",
   "id": "b68a4264",
   "metadata": {},
   "source": [
    "## Setting up your Environment & Testing your Server"
   ]
  },
  {
   "cell_type": "markdown",
   "id": "ca911454",
   "metadata": {},
   "source": [
    "You'll now set up the environment that you will use to run and test the server. For that, you will use the `uv` tool, which helps you manage your Python environment: it automatically sets up the project files and manages the package dependencies."
   ]
  },
  {
   "cell_type": "markdown",
   "id": "84c2d535",
   "metadata": {},
   "source": [
    "**Terminal Instructions**"
   ]
  },
  {
   "cell_type": "markdown",
   "id": "6c2c0b44",
   "metadata": {},
   "source": [
    "- To open the terminal, run the cell below.\n",
    "- Navigate to the project directory and initiate it with `uv`:\n",
    "    - `cd mcp_project`\n",
    "    - `uv init`\n",
    "-  Create virtual environment and activate it:\n",
    "    - `uv venv`\n",
    "    - `source .venv/bin/activate`\n",
    "- Install dependencies:\n",
    "    - `uv add mcp arxiv`\n",
    "- Launch the inspector:\n",
    "    - `npx @modelcontextprotocol/inspector uv run research_server.py`\n",
    "    - If you get a message asking \"need to install the following packages\", type: `y`\n",
    "- You will get a message saying that the inspector is up and running at a specific address. To open the inspector, click on that given address. The inspector will open in another tab.\n",
    "- In the inspector UI, make sure to follow the video. You would need to specify under configuration the `Inspector Proxy Address`. Please check the \"Inspector UI Instructions\" below and run the last cell (after the terminal) to get the `Inspector Proxy Address` for your configurations."
   ]
  },
  {
   "cell_type": "code",
   "execution_count": null,
   "id": "2c30e759",
   "metadata": {},
   "outputs": [
    {
     "ename": "AttributeError",
     "evalue": "'NoneType' object has no attribute 'format'",
     "output_type": "error",
     "traceback": [
      "\u001b[31m---------------------------------------------------------------------------\u001b[39m",
      "\u001b[31mAttributeError\u001b[39m                            Traceback (most recent call last)",
      "\u001b[36mCell\u001b[39m\u001b[36m \u001b[39m\u001b[32mIn[3]\u001b[39m\u001b[32m, line 5\u001b[39m\n\u001b[32m      2\u001b[39m \u001b[38;5;28;01mimport\u001b[39;00m\u001b[38;5;250m \u001b[39m\u001b[34;01mos\u001b[39;00m\n\u001b[32m      3\u001b[39m \u001b[38;5;28;01mfrom\u001b[39;00m\u001b[38;5;250m \u001b[39m\u001b[34;01mIPython\u001b[39;00m\u001b[34;01m.\u001b[39;00m\u001b[34;01mdisplay\u001b[39;00m\u001b[38;5;250m \u001b[39m\u001b[38;5;28;01mimport\u001b[39;00m IFrame\n\u001b[32m----> \u001b[39m\u001b[32m5\u001b[39m IFrame(\u001b[33mf\u001b[39m\u001b[33m\"\u001b[39m\u001b[38;5;132;01m{\u001b[39;00m\u001b[43mos\u001b[49m\u001b[43m.\u001b[49m\u001b[43menviron\u001b[49m\u001b[43m.\u001b[49m\u001b[43mget\u001b[49m\u001b[43m(\u001b[49m\u001b[33;43m'\u001b[39;49m\u001b[33;43mDLAI_LOCAL_URL\u001b[39;49m\u001b[33;43m'\u001b[39;49m\u001b[43m)\u001b[49m\u001b[43m.\u001b[49m\u001b[43mformat\u001b[49m(port=\u001b[32m8888\u001b[39m)\u001b[38;5;132;01m}\u001b[39;00m\u001b[33mterminals/1\u001b[39m\u001b[33m\"\u001b[39m, \n\u001b[32m      6\u001b[39m        width=\u001b[32m600\u001b[39m, height=\u001b[32m768\u001b[39m)\n",
      "\u001b[31mAttributeError\u001b[39m: 'NoneType' object has no attribute 'format'"
     ]
    }
   ],
   "source": [
    "# start a new terminal // this will open a new terminal in the notebook environment so it's not needed to run on local\n",
    "import os\n",
    "from IPython.display import IFrame\n",
    "\n",
    "IFrame(f\"{os.environ.get('DLAI_LOCAL_URL').format(port=8888)}terminals/1\", \n",
    "       width=600, height=768)"
   ]
  }
 ],
 "metadata": {
  "kernelspec": {
   "display_name": "Python 3",
   "language": "python",
   "name": "python3"
  },
  "language_info": {
   "codemirror_mode": {
    "name": "ipython",
    "version": 3
   },
   "file_extension": ".py",
   "mimetype": "text/x-python",
   "name": "python",
   "nbconvert_exporter": "python",
   "pygments_lexer": "ipython3",
   "version": "3.12.0"
  }
 },
 "nbformat": 4,
 "nbformat_minor": 5
}
